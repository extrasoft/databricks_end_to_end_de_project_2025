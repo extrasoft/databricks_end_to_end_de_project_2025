{
 "cells": [
  {
   "cell_type": "code",
   "execution_count": 0,
   "metadata": {
    "application/vnd.databricks.v1+cell": {
     "cellMetadata": {
      "byteLimit": 2048000,
      "rowLimit": 10000
     },
     "inputWidgets": {},
     "nuid": "1466ed36-5782-4c91-b6c8-dc52ce3ac9cf",
     "showTitle": false,
     "tableResultSettingsMap": {},
     "title": ""
    }
   },
   "outputs": [],
   "source": [
    "# define ADLS API Path\n",
    "source = \"abfss://source@dlsdatabrickseteteamea.dfs.core.windows.net\"\n",
    "bronze = \"abfss://bronze@dlsdatabrickseteteamea.dfs.core.windows.net\"\n",
    "silver = \"abfss://silver@dlsdatabrickseteteamea.dfs.core.windows.net\"\n",
    "gold = \"abfss://gold@dlsdatabrickseteteamea.dfs.core.windows.net\"\n",
    "\n",
    "# source_orders = source + \"orders\"\n",
    "# source_customers = gold + \"customers\"\n",
    "# print(source_customers)"
   ]
  },
  {
   "cell_type": "code",
   "execution_count": 0,
   "metadata": {
    "application/vnd.databricks.v1+cell": {
     "cellMetadata": {
      "byteLimit": 2048000,
      "rowLimit": 10000
     },
     "inputWidgets": {},
     "nuid": "27108570-885d-4a45-ab72-3d385136b3ab",
     "showTitle": false,
     "tableResultSettingsMap": {},
     "title": ""
    }
   },
   "outputs": [],
   "source": [
    "df = spark.read.format(\"parquet\").load(f\"{source}/orders\" )\n",
    "print(df.count())\n",
    "display(df)"
   ]
  },
  {
   "cell_type": "markdown",
   "metadata": {
    "application/vnd.databricks.v1+cell": {
     "cellMetadata": {},
     "inputWidgets": {},
     "nuid": "f7e81fbe-8d2e-4254-99d7-127710383b81",
     "showTitle": false,
     "tableResultSettingsMap": {},
     "title": ""
    }
   },
   "source": [
    "### **Data Reading**"
   ]
  },
  {
   "cell_type": "code",
   "execution_count": 0,
   "metadata": {
    "application/vnd.databricks.v1+cell": {
     "cellMetadata": {
      "byteLimit": 2048000,
      "implicitDf": true,
      "rowLimit": 10000
     },
     "inputWidgets": {},
     "nuid": "2836fc05-9aba-4908-8d16-f177d3a96e76",
     "showTitle": false,
     "tableResultSettingsMap": {},
     "title": ""
    }
   },
   "outputs": [],
   "source": [
    "# Cell ที่ 3 มีการอ่านไฟล์จาก container source/orders โดยใช้ Spark Structured Streaming และ Auto Loader เพื่อเก็บ Checkpoint ของไฟล์ที่ได้อ่านแล้ว ซึ่งจะช่วยให้ไม่ต้องอ่านไฟล์เดิมซ้ำ\n",
    "# readStream ใช้สำหรับการอ่านข้อมูลแบบสตรีมมิ่ง ซึ่งช่วยให้สามารถประมวลผลข้อมูลที่เข้ามาใหม่ได้อย่างต่อเนื่อง\n",
    "# cloudFiles เป็นฟอร์แมตที่ใช้กับ Auto Loader ของ Databricks ซึ่งช่วยในการจัดการไฟล์ที่เข้ามาใหม่โดยอัตโนมัติ และเก็บ Checkpoint เพื่อไม่ให้เกิดการอ่านไฟล์ซ้ำ\n",
    "df = spark.readStream.format(\"cloudFiles\")\\\n",
    "    .option(\"cloudFiles.format\", \"parquet\")\\\n",
    "    .option(\"cloudFiles.schemaLocation\", f\"{bronze}/checkpoint_orders\")\\\n",
    "    .load(f\"{source}/orders\")\n"
   ]
  },
  {
   "cell_type": "code",
   "execution_count": 0,
   "metadata": {
    "application/vnd.databricks.v1+cell": {
     "cellMetadata": {
      "byteLimit": 2048000,
      "rowLimit": 10000
     },
     "inputWidgets": {},
     "nuid": "65b5996b-b382-427a-b216-c85a6a336192",
     "showTitle": false,
     "tableResultSettingsMap": {},
     "title": ""
    }
   },
   "outputs": [],
   "source": [
    "df.writeStream.format(\"parquet\") \\\n",
    "    .outputMode(\"append\") \\\n",
    "    .option(\"checkpointLocation\" , f\"{bronze}/checkpoint_orders\") \\\n",
    "    .option(\"path\" , f\"{bronze}/orders\" ) \\\n",
    "    .trigger(once=True) \\\n",
    "    .start()\n",
    "# .trigger(processingTime=\"10 seconds\")    ให้เขียนทุกๆ 10 วินาที\n",
    "# .trigger(once=True) เขียนเพียงครั้งเดียวแล้วจบ"
   ]
  },
  {
   "cell_type": "code",
   "execution_count": 0,
   "metadata": {
    "application/vnd.databricks.v1+cell": {
     "cellMetadata": {
      "byteLimit": 2048000,
      "rowLimit": 10000
     },
     "inputWidgets": {},
     "nuid": "f32b46e9-e829-4d10-b2f3-1acfabdd1c8b",
     "showTitle": false,
     "tableResultSettingsMap": {},
     "title": ""
    }
   },
   "outputs": [],
   "source": [
    "df_bronze_orders = spark.read.format(\"parquet\").load(f\"{bronze}/orders\")\n",
    "print(df_bronze_orders.count())\n",
    "display(df_bronze_orders)"
   ]
  }
 ],
 "metadata": {
  "application/vnd.databricks.v1+notebook": {
   "computePreferences": null,
   "dashboards": [],
   "environmentMetadata": {
    "base_environment": "",
    "environment_version": "2"
   },
   "inputWidgetPreferences": null,
   "language": "python",
   "notebookMetadata": {
    "mostRecentlyExecutedCommandWithImplicitDF": {
     "commandId": -1,
     "dataframes": [
      "_sqldf"
     ]
    },
    "pythonIndentUnit": 4
   },
   "notebookName": "Bronze_Layer",
   "widgets": {}
  },
  "language_info": {
   "name": "python"
  }
 },
 "nbformat": 4,
 "nbformat_minor": 0
}
