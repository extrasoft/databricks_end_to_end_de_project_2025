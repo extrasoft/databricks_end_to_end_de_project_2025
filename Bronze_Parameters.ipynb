{
 "cells": [
  {
   "cell_type": "code",
   "execution_count": 0,
   "metadata": {
    "application/vnd.databricks.v1+cell": {
     "cellMetadata": {},
     "inputWidgets": {},
     "nuid": "3e1e2247-9894-444a-908e-7773bc230a2b",
     "showTitle": false,
     "tableResultSettingsMap": {},
     "title": ""
    }
   },
   "outputs": [],
   "source": [
    "datasets = [\n",
    "    {\n",
    "        \"file_name\": \"orders\"\n",
    "    },\n",
    "    {\n",
    "        \"file_name\": \"customers\"\n",
    "    },\n",
    "    {\n",
    "        \"file_name\": \"products\"\n",
    "    }\n",
    "]"
   ]
  },
  {
   "cell_type": "code",
   "execution_count": 0,
   "metadata": {
    "application/vnd.databricks.v1+cell": {
     "cellMetadata": {},
     "inputWidgets": {},
     "nuid": "60899ab0-1e0a-4073-a1db-d6088ca8ac6d",
     "showTitle": false,
     "tableResultSettingsMap": {},
     "title": ""
    }
   },
   "outputs": [],
   "source": [
    "# การใช้ dbutils.jobs.taskValues ใน Databricks notebook ช่วยให้คุณสามารถส่งผ่านค่าระหว่าง tasks ใน job เดียวกันได้ โดยใช้ key-value pairs ซึ่งสามารถตั้งค่าและดึงค่าได้ใน tasks ต่างๆ\n",
    "dbutils.jobs.taskValues.set(\"output_datasets\", datasets)\n",
    "\n",
    "\n",
    "# ตัวอย่างการเรียกใช้จาก task อื่นๆโดยใช้ dbutils.jobs.taskValues.get() เช่น\n",
    "# output_datasets = dbutils.jobs.taskValues.get(taskKey=\"previous_task\", key=\"output_datasets\")\n"
   ]
  }
 ],
 "metadata": {
  "application/vnd.databricks.v1+notebook": {
   "computePreferences": null,
   "dashboards": [],
   "environmentMetadata": {
    "base_environment": "",
    "environment_version": "2"
   },
   "inputWidgetPreferences": null,
   "language": "python",
   "notebookMetadata": {
    "pythonIndentUnit": 4
   },
   "notebookName": "Bronze_Parameters",
   "widgets": {}
  },
  "language_info": {
   "name": "python"
  }
 },
 "nbformat": 4,
 "nbformat_minor": 0
}
