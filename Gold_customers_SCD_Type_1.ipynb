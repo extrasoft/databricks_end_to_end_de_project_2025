{
 "cells": [
  {
   "cell_type": "code",
   "execution_count": 0,
   "metadata": {
    "application/vnd.databricks.v1+cell": {
     "cellMetadata": {
      "byteLimit": 2048000,
      "rowLimit": 10000
     },
     "inputWidgets": {},
     "nuid": "3619196a-89fd-4870-b9f9-46a1d7b2e9a6",
     "showTitle": false,
     "tableResultSettingsMap": {},
     "title": ""
    }
   },
   "outputs": [],
   "source": [
    "from pyspark.sql.functions import *\n",
    "from pyspark.sql.types import *"
   ]
  },
  {
   "cell_type": "code",
   "execution_count": 0,
   "metadata": {
    "application/vnd.databricks.v1+cell": {
     "cellMetadata": {
      "byteLimit": 2048000,
      "rowLimit": 10000
     },
     "inputWidgets": {},
     "nuid": "89c195a8-3eb6-4329-aab2-9300b4764568",
     "showTitle": false,
     "tableResultSettingsMap": {},
     "title": ""
    }
   },
   "outputs": [],
   "source": [
    "# 0 = Merge / Upsert\n",
    "# 1 = Initial load\n",
    "init_load_flag = int(dbutils.widgets.get(\"init_load_flag\"))"
   ]
  },
  {
   "cell_type": "markdown",
   "metadata": {
    "application/vnd.databricks.v1+cell": {
     "cellMetadata": {
      "byteLimit": 2048000,
      "rowLimit": 10000
     },
     "inputWidgets": {},
     "nuid": "2a43f4ba-da81-467e-ab72-2bee64c35c83",
     "showTitle": false,
     "tableResultSettingsMap": {},
     "title": ""
    }
   },
   "source": [
    "### **Data Reading From Source**"
   ]
  },
  {
   "cell_type": "code",
   "execution_count": 0,
   "metadata": {
    "application/vnd.databricks.v1+cell": {
     "cellMetadata": {
      "byteLimit": 2048000,
      "rowLimit": 10000
     },
     "inputWidgets": {},
     "nuid": "792ccd30-6e7a-45d8-81de-0f6d275e49ae",
     "showTitle": false,
     "tableResultSettingsMap": {},
     "title": ""
    }
   },
   "outputs": [],
   "source": [
    "df = spark.sql(\"SELECT * FROM databricks_cata.silver.customers_silver\")"
   ]
  },
  {
   "cell_type": "code",
   "execution_count": 0,
   "metadata": {
    "application/vnd.databricks.v1+cell": {
     "cellMetadata": {
      "byteLimit": 2048000,
      "rowLimit": 10000
     },
     "inputWidgets": {},
     "nuid": "bdb29560-b3a9-47d6-8d23-9f001c71c6f1",
     "showTitle": false,
     "tableResultSettingsMap": {},
     "title": ""
    }
   },
   "outputs": [],
   "source": [
    "df.display()"
   ]
  },
  {
   "cell_type": "markdown",
   "metadata": {
    "application/vnd.databricks.v1+cell": {
     "cellMetadata": {
      "byteLimit": 2048000,
      "rowLimit": 10000
     },
     "inputWidgets": {},
     "nuid": "d450ee7c-5763-45d1-8c47-f54be3d90e98",
     "showTitle": false,
     "tableResultSettingsMap": {},
     "title": ""
    }
   },
   "source": [
    "### **Removing Duplicates**"
   ]
  },
  {
   "cell_type": "code",
   "execution_count": 0,
   "metadata": {
    "application/vnd.databricks.v1+cell": {
     "cellMetadata": {
      "byteLimit": 2048000,
      "rowLimit": 10000
     },
     "inputWidgets": {},
     "nuid": "76bfb8bd-bdc6-44b2-bc09-3638598ac0a4",
     "showTitle": false,
     "tableResultSettingsMap": {},
     "title": ""
    }
   },
   "outputs": [],
   "source": [
    "# ลบแถวที่มี pk ซ้ำ\n",
    "df = df.dropDuplicates(subset=['customer_id'])"
   ]
  },
  {
   "cell_type": "markdown",
   "metadata": {
    "application/vnd.databricks.v1+cell": {
     "cellMetadata": {
      "byteLimit": 2048000,
      "rowLimit": 10000
     },
     "inputWidgets": {},
     "nuid": "8ab59c33-062c-4ce0-b0c2-08bccd131090",
     "showTitle": false,
     "tableResultSettingsMap": {},
     "title": ""
    }
   },
   "source": [
    "# **Dividing New vs Old Records**"
   ]
  },
  {
   "cell_type": "code",
   "execution_count": 0,
   "metadata": {
    "application/vnd.databricks.v1+cell": {
     "cellMetadata": {
      "byteLimit": 2048000,
      "rowLimit": 10000
     },
     "inputWidgets": {},
     "nuid": "356d1193-bac6-4ba0-9309-beab40277cd8",
     "showTitle": false,
     "tableResultSettingsMap": {},
     "title": ""
    }
   },
   "outputs": [],
   "source": [
    "if init_load_flag == 0:\n",
    "    # Incremental load (Upsert: Update Old data or Inert New data)\n",
    "    df_old = spark.sql('''\n",
    "                        SELECT \n",
    "                            DimCustomerKey, \n",
    "                            customer_id, \n",
    "                            create_date, \n",
    "                            update_date \n",
    "                        FROM databricks_cata.gold.DimCustomers\n",
    "                        ''')\n",
    "else:\n",
    "    # Initial load\n",
    "    df_old = spark.sql('''\n",
    "                    SELECT \n",
    "                        0 DimCustomersKey, \n",
    "                        0 customer_id, \n",
    "                        0 create_date, \n",
    "                        0 update_date\n",
    "                    FROM databricks_cata.silver.customers_silver\n",
    "                    WHERE 1=0\n",
    "                    ''')\n",
    "    "
   ]
  },
  {
   "cell_type": "code",
   "execution_count": 0,
   "metadata": {
    "application/vnd.databricks.v1+cell": {
     "cellMetadata": {
      "byteLimit": 2048000,
      "rowLimit": 10000
     },
     "inputWidgets": {},
     "nuid": "12342f20-21ff-42c6-956c-b8f15d9b5fd8",
     "showTitle": false,
     "tableResultSettingsMap": {},
     "title": ""
    }
   },
   "outputs": [],
   "source": [
    "df_old.display()"
   ]
  },
  {
   "cell_type": "markdown",
   "metadata": {
    "application/vnd.databricks.v1+cell": {
     "cellMetadata": {
      "byteLimit": 2048000,
      "rowLimit": 10000
     },
     "inputWidgets": {},
     "nuid": "f0b660b7-26c3-46ff-8c55-5fdc04275a6a",
     "showTitle": false,
     "tableResultSettingsMap": {},
     "title": ""
    }
   },
   "source": [
    "**Renaming Columns of df_old**"
   ]
  },
  {
   "cell_type": "code",
   "execution_count": 0,
   "metadata": {
    "application/vnd.databricks.v1+cell": {
     "cellMetadata": {
      "byteLimit": 2048000,
      "rowLimit": 10000
     },
     "inputWidgets": {},
     "nuid": "645aade5-7d54-46ba-aa27-383ef950505d",
     "showTitle": false,
     "tableResultSettingsMap": {},
     "title": ""
    }
   },
   "outputs": [],
   "source": [
    "df_old = df_old.withColumnRenamed(\"DimCustomerKey\", \"old_DimCustomerKey\") \\\n",
    "            .withColumnRenamed(\"customer_id\", \"old_customer_id\") \\\n",
    "            .withColumnRenamed(\"create_date\", \"old_create_date\") \\\n",
    "            .withColumnRenamed(\"update_date\", \"old_update_date\")"
   ]
  },
  {
   "cell_type": "markdown",
   "metadata": {
    "application/vnd.databricks.v1+cell": {
     "cellMetadata": {
      "byteLimit": 2048000,
      "rowLimit": 10000
     },
     "inputWidgets": {},
     "nuid": "966c91ea-5892-45aa-bbb7-e9fdbb8b842e",
     "showTitle": false,
     "tableResultSettingsMap": {},
     "title": ""
    }
   },
   "source": [
    "### **Applying Join with the Old Records**"
   ]
  },
  {
   "cell_type": "code",
   "execution_count": 0,
   "metadata": {
    "application/vnd.databricks.v1+cell": {
     "cellMetadata": {
      "byteLimit": 2048000,
      "rowLimit": 10000
     },
     "inputWidgets": {},
     "nuid": "7260cef8-4f23-4bd3-b604-eb51f6aae51e",
     "showTitle": false,
     "tableResultSettingsMap": {},
     "title": ""
    }
   },
   "outputs": [],
   "source": [
    "df_join = df.join(df_old, df.customer_id == df_old.old_customer_id, 'left')\n"
   ]
  },
  {
   "cell_type": "code",
   "execution_count": 0,
   "metadata": {
    "application/vnd.databricks.v1+cell": {
     "cellMetadata": {
      "byteLimit": 2048000,
      "rowLimit": 10000
     },
     "inputWidgets": {},
     "nuid": "fc509272-0dea-4ea1-9afc-cb414e422698",
     "showTitle": false,
     "tableResultSettingsMap": {},
     "title": ""
    }
   },
   "outputs": [],
   "source": [
    "df_join.display()"
   ]
  },
  {
   "cell_type": "markdown",
   "metadata": {
    "application/vnd.databricks.v1+cell": {
     "cellMetadata": {
      "byteLimit": 2048000,
      "rowLimit": 10000
     },
     "inputWidgets": {},
     "nuid": "824f4687-86ee-476e-b0c7-10de3230db4f",
     "showTitle": false,
     "tableResultSettingsMap": {},
     "title": ""
    }
   },
   "source": [
    "**Seperating New vs Old Records**"
   ]
  },
  {
   "cell_type": "code",
   "execution_count": 0,
   "metadata": {
    "application/vnd.databricks.v1+cell": {
     "cellMetadata": {
      "byteLimit": 2048000,
      "rowLimit": 10000
     },
     "inputWidgets": {},
     "nuid": "f02a8aab-5602-4788-9a4a-a26768ac2c83",
     "showTitle": false,
     "tableResultSettingsMap": {},
     "title": ""
    }
   },
   "outputs": [],
   "source": [
    "# จะเขียน df_join.old_customer_id หรือ df_join['old_customer_id'] ก็ได้เหมือนกัน\n",
    "df_new = df_join.filter(df_join['old_customer_id'].isNull())"
   ]
  },
  {
   "cell_type": "code",
   "execution_count": 0,
   "metadata": {
    "application/vnd.databricks.v1+cell": {
     "cellMetadata": {
      "byteLimit": 2048000,
      "rowLimit": 10000
     },
     "inputWidgets": {},
     "nuid": "a6c766ac-1d33-4850-813d-34c2b1780ce9",
     "showTitle": false,
     "tableResultSettingsMap": {},
     "title": ""
    }
   },
   "outputs": [],
   "source": [
    "df_old = df_join.filter(df_join['old_customer_id'].isNotNull())"
   ]
  },
  {
   "cell_type": "code",
   "execution_count": 0,
   "metadata": {
    "application/vnd.databricks.v1+cell": {
     "cellMetadata": {
      "byteLimit": 2048000,
      "rowLimit": 10000
     },
     "inputWidgets": {},
     "nuid": "89cc4912-7880-47ca-90ba-f12ce15b133d",
     "showTitle": false,
     "tableResultSettingsMap": {},
     "title": ""
    }
   },
   "outputs": [],
   "source": [
    "df_new.limit(5).display()\n",
    "df_old.limit(5).display()"
   ]
  },
  {
   "cell_type": "markdown",
   "metadata": {
    "application/vnd.databricks.v1+cell": {
     "cellMetadata": {
      "byteLimit": 2048000,
      "rowLimit": 10000
     },
     "inputWidgets": {},
     "nuid": "c2eba89b-4626-4412-9200-54cb5bd6752f",
     "showTitle": false,
     "tableResultSettingsMap": {},
     "title": ""
    }
   },
   "source": [
    "**Preparing df_old**"
   ]
  },
  {
   "cell_type": "code",
   "execution_count": 0,
   "metadata": {
    "application/vnd.databricks.v1+cell": {
     "cellMetadata": {
      "byteLimit": 2048000,
      "rowLimit": 10000
     },
     "inputWidgets": {},
     "nuid": "dfa55e71-9b58-40df-9141-fcb3ee9f0af0",
     "showTitle": false,
     "tableResultSettingsMap": {},
     "title": ""
    }
   },
   "outputs": [],
   "source": [
    "# Dropping all the columns which are not required\n",
    "df_old = df_old.drop(\"old_customer_id\", \"old_update_date\")\n",
    "\n",
    "# Renaming \"old_DimCustomerKey\" column to \"DimCustomerKey\"\n",
    "df_old = df_old.withColumnRenamed(\"old_DimCustomerKey\", \"DimCustomerKey\")\n",
    "\n",
    "# Renaming \"old_create_date\" column to \"create_date\" and then convert data type to timestamp\n",
    "df_old = df_old.withColumnRenamed(\"old_create_date\", \"create_date\") \\\n",
    "                .withColumn(\"create_date\", to_timestamp(col(\"create_date\")))\n",
    "\n",
    "# Recreating \"update_date\" column with current timestamp\n",
    "df_old = df_old.withColumn(\"update_date\", current_timestamp())"
   ]
  },
  {
   "cell_type": "code",
   "execution_count": 0,
   "metadata": {
    "application/vnd.databricks.v1+cell": {
     "cellMetadata": {
      "byteLimit": 2048000,
      "rowLimit": 10000
     },
     "inputWidgets": {},
     "nuid": "c7b707c6-0915-4706-9aaf-be6c2068a50d",
     "showTitle": false,
     "tableResultSettingsMap": {},
     "title": ""
    }
   },
   "outputs": [],
   "source": [
    "df_old.display()"
   ]
  },
  {
   "cell_type": "markdown",
   "metadata": {
    "application/vnd.databricks.v1+cell": {
     "cellMetadata": {
      "byteLimit": 2048000,
      "rowLimit": 10000
     },
     "inputWidgets": {},
     "nuid": "3419ca33-31c2-4f32-8718-e0494b9b35f8",
     "showTitle": false,
     "tableResultSettingsMap": {},
     "title": ""
    }
   },
   "source": [
    "**Preparing df_new**"
   ]
  },
  {
   "cell_type": "code",
   "execution_count": 0,
   "metadata": {
    "application/vnd.databricks.v1+cell": {
     "cellMetadata": {
      "byteLimit": 2048000,
      "rowLimit": 10000
     },
     "inputWidgets": {},
     "nuid": "564869f7-6adc-48e6-af7c-5d0292fb0e42",
     "showTitle": false,
     "tableResultSettingsMap": {},
     "title": ""
    }
   },
   "outputs": [],
   "source": [
    "df_new.limit(5).display()"
   ]
  },
  {
   "cell_type": "code",
   "execution_count": 0,
   "metadata": {
    "application/vnd.databricks.v1+cell": {
     "cellMetadata": {
      "byteLimit": 2048000,
      "rowLimit": 10000
     },
     "inputWidgets": {},
     "nuid": "065e429c-cd49-4402-972d-f864c4521801",
     "showTitle": false,
     "tableResultSettingsMap": {},
     "title": ""
    }
   },
   "outputs": [],
   "source": [
    "# Dropping all the columns which are not required\n",
    "df_new = df_new.drop(\"old_DimCustomerKey\", \"old_customer_id\", \"old_create_date\", \"old_update_date\")\n",
    "\n",
    "# Recreating \"create_date\" and \"update_date\" column with current timestamp\n",
    "df_new = df_new.withColumn(\"create_date\", current_timestamp()) \\\n",
    "                .withColumn(\"update_date\", current_timestamp())"
   ]
  },
  {
   "cell_type": "code",
   "execution_count": 0,
   "metadata": {
    "application/vnd.databricks.v1+cell": {
     "cellMetadata": {
      "byteLimit": 2048000,
      "rowLimit": 10000
     },
     "inputWidgets": {},
     "nuid": "c6c5d2bd-f138-407d-b0d9-4c22f2767595",
     "showTitle": false,
     "tableResultSettingsMap": {},
     "title": ""
    }
   },
   "outputs": [],
   "source": [
    "df_new.display()"
   ]
  },
  {
   "cell_type": "markdown",
   "metadata": {
    "application/vnd.databricks.v1+cell": {
     "cellMetadata": {
      "byteLimit": 2048000,
      "rowLimit": 10000
     },
     "inputWidgets": {},
     "nuid": "d845f6f0-d9c9-491f-b74f-22de615c8666",
     "showTitle": false,
     "tableResultSettingsMap": {},
     "title": ""
    }
   },
   "source": [
    "### **Surrogate Key - From 1**"
   ]
  },
  {
   "cell_type": "code",
   "execution_count": 0,
   "metadata": {
    "application/vnd.databricks.v1+cell": {
     "cellMetadata": {
      "byteLimit": 2048000,
      "rowLimit": 10000
     },
     "inputWidgets": {},
     "nuid": "a3aab271-7a68-42d8-aa55-3701b78eb663",
     "showTitle": false,
     "tableResultSettingsMap": {},
     "title": ""
    }
   },
   "outputs": [],
   "source": [
    "# ฟังก์ชั่น monotonically_increasing_id() ใน PySpark จะสร้างคอลัมน์ที่มีค่าเป็นตัวเลขที่เพิ่มขึ้นเรื่อย ๆ โดยไม่ซ้ำกัน ซึ่งสามารถใช้เป็น primary key หรือ identifier ได้ ฟังก์ชั่นนี้จะสร้างค่าเริ่มต้นจาก 0 และเพิ่มขึ้นเรื่อย ๆ ตามลำดับของแถวใน DataFrame\n",
    "\n",
    "# การใช้ lit(1) แทนที่จะใช้ +1 ธรรมดาเป็นเพราะว่าใน PySpark การดำเนินการทางคณิตศาสตร์ระหว่างคอลัมน์และค่าคงที่ต้องใช้ฟังก์ชั่น lit() เพื่อแปลงค่าคงที่ให้เป็นคอลัมน์ก่อน\n",
    "df_new = df_new.withColumn(\"DimCustomerKey\", monotonically_increasing_id() + lit(1))\n",
    "\n",
    "# ใน PySpark การใช้ monotonically_increasing_id() + 1 อาจทำงานได้ในบางกรณี แต่การใช้ lit(1) เป็นวิธีที่ถูกต้องและปลอดภัยกว่า เนื่องจาก lit() ใช้ในการแปลงค่าคงที่ให้เป็นคอลัมน์ ซึ่งเป็นวิธีที่แนะนำในการดำเนินการทางคณิตศาสตร์ระหว่างคอลัมน์และค่าคงที่ใน PySpark."
   ]
  },
  {
   "cell_type": "code",
   "execution_count": 0,
   "metadata": {
    "application/vnd.databricks.v1+cell": {
     "cellMetadata": {
      "byteLimit": 2048000,
      "rowLimit": 10000
     },
     "inputWidgets": {},
     "nuid": "867513f0-fb46-4070-a240-8ba68bdadb38",
     "showTitle": false,
     "tableResultSettingsMap": {},
     "title": ""
    }
   },
   "outputs": [],
   "source": [
    "df_new.display()"
   ]
  },
  {
   "cell_type": "markdown",
   "metadata": {
    "application/vnd.databricks.v1+cell": {
     "cellMetadata": {
      "byteLimit": 2048000,
      "rowLimit": 10000
     },
     "inputWidgets": {},
     "nuid": "0c59fa0b-9392-4124-b527-c0d49f7cd1ff",
     "showTitle": false,
     "tableResultSettingsMap": {},
     "title": ""
    }
   },
   "source": [
    "**Adding Max Surrogate Key**"
   ]
  },
  {
   "cell_type": "code",
   "execution_count": 0,
   "metadata": {
    "application/vnd.databricks.v1+cell": {
     "cellMetadata": {
      "byteLimit": 2048000,
      "rowLimit": 10000
     },
     "inputWidgets": {},
     "nuid": "2a8188e8-f2e2-4726-b9c4-fdd6dafb53d0",
     "showTitle": false,
     "tableResultSettingsMap": {},
     "title": ""
    }
   },
   "outputs": [],
   "source": [
    "if init_load_flag == 1:\n",
    "    max_surrogate_key = 0\n",
    "else:\n",
    "    # ใน PySpark, การใช้ .collect() ต่อท้าย spark.sql เป็นการดึงข้อมูลทั้งหมดจาก DataFrame ที่ได้จากการ query มาเก็บไว้ในรูปแบบของ list ของ Row objects ใน driver node. ถ้าคุณต้องการแค่ค่าเดียว (เช่น max_surrogate_key), คุณสามารถใช้ .first() แทน .collect() เพื่อดึงแค่แถวแรกของผลลัพธ์ได้.\n",
    "    df_maxsur = spark.sql(\"SELECT MAX(DimCustomerKey) as max_surrogate_key FROM databricks_cata.gold.DimCustomers\")\n",
    "    \n",
    "    # Convert df_maxsur to max_sorrogate_key variable\n",
    "    max_surrogate_key = df_maxsur.collect()[0]['max_surrogate_key']\n",
    "    # หรือใช้ .first() max_surrogate_key = df_maxsur.first()['max_surrogate_key']\n",
    "\n",
    "\n",
    "    # ตัวอย่างวิธีอื่นๆ\n",
    "    # ######### first() ########\n",
    "    # df_maxsur = spark.sql(\"SELECT MAX(DimCustomerKey) as max_surrogate_key FROM databricks_cata.gold.DimCustomers\").first()\n",
    "    # max_surrogate_key = df_maxsur['max_surrogate_key']\n",
    "\n",
    "    # ######### collect() ########\n",
    "    # df_maxsur = spark.sql(\"SELECT MAX(DimCustomerKey) as max_surrogate_key FROM databricks_cata.gold.DimCustomers\").collect()\n",
    "    # max_surrogate_key = df_maxsur[0]['max_surrogate_key']"
   ]
  },
  {
   "cell_type": "code",
   "execution_count": 0,
   "metadata": {
    "application/vnd.databricks.v1+cell": {
     "cellMetadata": {
      "byteLimit": 2048000,
      "rowLimit": 10000
     },
     "inputWidgets": {},
     "nuid": "4aea122f-5e2e-49ca-922e-58b5168ed4f3",
     "showTitle": false,
     "tableResultSettingsMap": {},
     "title": ""
    }
   },
   "outputs": [],
   "source": [
    "print(max_surrogate_key)"
   ]
  },
  {
   "cell_type": "code",
   "execution_count": 0,
   "metadata": {
    "application/vnd.databricks.v1+cell": {
     "cellMetadata": {
      "byteLimit": 2048000,
      "rowLimit": 10000
     },
     "inputWidgets": {},
     "nuid": "64de8dfd-8dd0-4641-baf7-819977c37d38",
     "showTitle": false,
     "tableResultSettingsMap": {},
     "title": ""
    }
   },
   "outputs": [],
   "source": [
    "# สมมุติ max_sorrogate_key = 2000 และ DimCustomerKey = 1, 2, 3, .....\n",
    "# ค่าต่อไปในแต่ละ rows ก็จะเป็น 2000+1, 2000+2, 2000+3, ....\n",
    "df_new = df_new.withColumn(\"DimCustomerKey\", lit(max_surrogate_key) + col(\"DimCustomerKey\"))"
   ]
  },
  {
   "cell_type": "code",
   "execution_count": 0,
   "metadata": {
    "application/vnd.databricks.v1+cell": {
     "cellMetadata": {
      "byteLimit": 2048000,
      "rowLimit": 10000
     },
     "inputWidgets": {},
     "nuid": "722a1005-3e92-414c-9fc8-4d942d4457ff",
     "showTitle": false,
     "tableResultSettingsMap": {},
     "title": ""
    }
   },
   "outputs": [],
   "source": [
    "df_new.limit(5).display()\n",
    "df_old.limit(5).display()"
   ]
  },
  {
   "cell_type": "markdown",
   "metadata": {
    "application/vnd.databricks.v1+cell": {
     "cellMetadata": {
      "byteLimit": 2048000,
      "rowLimit": 10000
     },
     "inputWidgets": {},
     "nuid": "ff7bcc3a-09c4-482d-9041-ab2c57c87cfd",
     "showTitle": false,
     "tableResultSettingsMap": {},
     "title": ""
    }
   },
   "source": [
    "### **Union of df_old and df_new**"
   ]
  },
  {
   "cell_type": "code",
   "execution_count": 0,
   "metadata": {
    "application/vnd.databricks.v1+cell": {
     "cellMetadata": {
      "byteLimit": 2048000,
      "rowLimit": 10000
     },
     "inputWidgets": {},
     "nuid": "875bbb37-fb54-4efd-bc77-97a10a712bab",
     "showTitle": false,
     "tableResultSettingsMap": {},
     "title": ""
    }
   },
   "outputs": [],
   "source": [
    "df_final = df_new.unionByName(df_old)"
   ]
  },
  {
   "cell_type": "code",
   "execution_count": 0,
   "metadata": {
    "application/vnd.databricks.v1+cell": {
     "cellMetadata": {
      "byteLimit": 2048000,
      "rowLimit": 10000
     },
     "inputWidgets": {},
     "nuid": "9eded4f2-7546-480f-a28e-301699a79157",
     "showTitle": false,
     "tableResultSettingsMap": {},
     "title": ""
    }
   },
   "outputs": [],
   "source": [
    "df_final.display()"
   ]
  },
  {
   "cell_type": "markdown",
   "metadata": {
    "application/vnd.databricks.v1+cell": {
     "cellMetadata": {
      "byteLimit": 2048000,
      "rowLimit": 10000
     },
     "inputWidgets": {},
     "nuid": "387f7b9b-8959-4f71-8e41-bd923b0edf66",
     "showTitle": false,
     "tableResultSettingsMap": {},
     "title": ""
    }
   },
   "source": [
    "## **SCD Type - 1**"
   ]
  },
  {
   "cell_type": "code",
   "execution_count": 0,
   "metadata": {
    "application/vnd.databricks.v1+cell": {
     "cellMetadata": {
      "byteLimit": 2048000,
      "rowLimit": 10000
     },
     "inputWidgets": {},
     "nuid": "01429117-fdda-4c5e-bb76-d9b29c9742f0",
     "showTitle": false,
     "tableResultSettingsMap": {},
     "title": ""
    }
   },
   "outputs": [],
   "source": [
    "from delta.tables import DeltaTable\n",
    "# ถ้าจะใช้ Merge / Upsert ต้อง Import อันนี้\n",
    "\n",
    "\n",
    "# if init_load_flag == 1:\n",
    "# หรือจะใช่ if statement ด้านล่างเพื่อเช็คค่าได้เหมือนกัน\n",
    "if spark.catalog.tableExists(\"databricks_cata.gold.DimCustomers\"):\n",
    "    dlt_obj = DeltaTable.forPath(spark, \"abfss://gold@dlsdatabrickseteteamea.dfs.core.windows.net/DimCustomers\")\n",
    "\n",
    "    # whenMatchedUpdateAll(), whenNotMatchedInsertAll() จะหมายถึง Update ทุกคอลัมน์ หรือ Inert ทุกคอลัมน์ และไม่ต้องระบุคอลัมน์\n",
    "    # whenMatchedUpdate(), whenNotMatchedInsert() จะหมายถึง Update บางคอลัมน์ หรือ Inert บางคอลัมน์ และต้องระบุคอลัมน์\n",
    "    dlt_obj.alias(\"trg\") \\\n",
    "        .merge(\n",
    "            df_final.alias(\"src\"), \n",
    "            \"trg.DimCustomerKey = src.DimCustomerKey\"\n",
    "        ) \\\n",
    "        .whenMatchedUpdateAll() \\\n",
    "        .whenNotMatchedInsertAll() \\\n",
    "        .execute()\n",
    "else:\n",
    "    df_final.write.mode(\"overwrite\") \\\n",
    "        .format(\"delta\") \\\n",
    "        .option(\"path\", \"abfss://gold@dlsdatabrickseteteamea.dfs.core.windows.net/DimCustomers\") \\\n",
    "        .saveAsTable(\"databricks_cata.gold.DimCustomers\")"
   ]
  },
  {
   "cell_type": "code",
   "execution_count": 0,
   "metadata": {
    "application/vnd.databricks.v1+cell": {
     "cellMetadata": {
      "byteLimit": 2048000,
      "rowLimit": 10000
     },
     "inputWidgets": {},
     "nuid": "a2e2e715-0f55-4d64-9972-aaa18f37844c",
     "showTitle": false,
     "tableResultSettingsMap": {},
     "title": ""
    }
   },
   "outputs": [],
   "source": [
    "df_gold = spark.sql(\"SELECT * FROM databricks_cata.gold.DimCustomers\")\n",
    "df_gold.display()"
   ]
  }
 ],
 "metadata": {
  "application/vnd.databricks.v1+notebook": {
   "computePreferences": null,
   "dashboards": [],
   "environmentMetadata": {
    "base_environment": "",
    "environment_version": "2"
   },
   "inputWidgetPreferences": null,
   "language": "python",
   "notebookMetadata": {
    "pythonIndentUnit": 4
   },
   "notebookName": "Gold_customers_SCD_Type_1",
   "widgets": {
    "init_load_flag": {
     "currentValue": "0",
     "nuid": "7c844060-1cc4-4c52-b2c7-568b46ddbbf6",
     "typedWidgetInfo": {
      "autoCreated": false,
      "defaultValue": "",
      "label": "",
      "name": "init_load_flag",
      "options": {
       "widgetDisplayType": "Text",
       "validationRegex": null
      },
      "parameterDataType": "String"
     },
     "widgetInfo": {
      "widgetType": "text",
      "defaultValue": "",
      "label": "",
      "name": "init_load_flag",
      "options": {
       "widgetType": "text",
       "autoCreated": false,
       "validationRegex": null
      }
     }
    }
   }
  },
  "language_info": {
   "name": "python"
  }
 },
 "nbformat": 4,
 "nbformat_minor": 0
}
